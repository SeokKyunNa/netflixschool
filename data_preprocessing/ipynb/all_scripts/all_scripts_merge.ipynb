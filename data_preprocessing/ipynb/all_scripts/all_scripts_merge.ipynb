{
 "cells": [
  {
   "cell_type": "markdown",
   "source": [
    "## 라이브러리"
   ],
   "metadata": {}
  },
  {
   "cell_type": "code",
   "execution_count": null,
   "source": [
    "import pandas as pd\r\n",
    "import numpy as np\r\n",
    "import seaborn as sns\r\n",
    "import matplotlib.pyplot as plt\r\n",
    "import matplotlib as mpl\r\n",
    "import warnings\r\n",
    "warnings.filterwarnings('ignore')"
   ],
   "outputs": [],
   "metadata": {}
  },
  {
   "cell_type": "markdown",
   "source": [
    "## path 설정"
   ],
   "metadata": {}
  },
  {
   "cell_type": "code",
   "execution_count": 1,
   "source": [
    "path = '../..'\r\n",
    "# path = \r\n",
    "word_path = f'{path}/words/final_datasets'"
   ],
   "outputs": [],
   "metadata": {}
  },
  {
   "cell_type": "markdown",
   "source": [
    "## 데이터 프레임 불러오기"
   ],
   "metadata": {}
  },
  {
   "cell_type": "code",
   "execution_count": null,
   "source": [
    "df_result = pd.read_csv(f'word_path/.csv')\r\n",
    "df_result_WPS = pd.read_csv(f'word_path/.csv')"
   ],
   "outputs": [],
   "metadata": {}
  }
 ],
 "metadata": {
  "orig_nbformat": 4,
  "language_info": {
   "name": "python",
   "version": "3.9.7",
   "mimetype": "text/x-python",
   "codemirror_mode": {
    "name": "ipython",
    "version": 3
   },
   "pygments_lexer": "ipython3",
   "nbconvert_exporter": "python",
   "file_extension": ".py"
  },
  "kernelspec": {
   "name": "python3",
   "display_name": "Python 3.9.7 64-bit ('ott2': conda)"
  },
  "interpreter": {
   "hash": "35d30bfe3f18c4671b7954a03b3607fce425614d47b33637e4d79a7acdaed77c"
  }
 },
 "nbformat": 4,
 "nbformat_minor": 2
}